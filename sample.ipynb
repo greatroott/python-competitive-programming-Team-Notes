{
 "cells": [
  {
   "cell_type": "markdown",
   "metadata": {},
   "source": [
    "# SKT Coding Test "
   ]
  },
  {
   "cell_type": "code",
   "execution_count": 3,
   "metadata": {},
   "outputs": [],
   "source": [
    "import re \n",
    "import heapq "
   ]
  },
  {
   "cell_type": "code",
   "execution_count": 83,
   "metadata": {},
   "outputs": [],
   "source": [
    "def solution(*args):\n",
    "    money, costs = args[0],args[1]\n",
    "    # 먼저 개당 단가 구현 \n",
    "    money_list = [1,5,10,50,100,500]\n",
    "    money_dict = {i:v for i,v in zip(money_list,costs)}\n",
    "    money_efficiency = [costs[i]/v for i,v in enumerate(money_list)]\n",
    "    prod_dict = {i:v for i,v in zip(money_list,money_efficiency)}\n",
    "    # 가장 싼 순서대로 시작함 \n",
    "    sorted_values = sorted(prod_dict, key = prod_dict.get,reverse = False)\n",
    "    answer = 0\n",
    "    for i in sorted_values:\n",
    "        answer += money_dict[i]*(money//i)\n",
    "        money = money%i\n",
    "    return answer"
   ]
  },
  {
   "cell_type": "code",
   "execution_count": 84,
   "metadata": {},
   "outputs": [
    {
     "name": "stdout",
     "output_type": "stream",
     "text": [
      "{1: 1.0, 5: 0.8, 10: 9.9, 50: 0.7, 100: 0.5, 500: 2.0}\n",
      "필요한 100원의 동전 개수는 : 45\n",
      "이 때 드는 비용은 22.0\n",
      "100원을 만들기 위한 생산 단가는 : 2250\n",
      "필요한 50원의 동전 개수는 : 1\n",
      "이 때 드는 비용은 1.0\n",
      "50원을 만들기 위한 생산 단가는 : 35\n",
      "필요한 5원의 동전 개수는 : 5\n",
      "이 때 드는 비용은 4.0\n",
      "5원을 만들기 위한 생산 단가는 : 20\n",
      "필요한 1원의 동전 개수는 : 3\n",
      "이 때 드는 비용은 3.0\n",
      "1원을 만들기 위한 생산 단가는 : 3\n",
      "필요한 500원의 동전 개수는 : 0\n",
      "이 때 드는 비용은 0.0\n",
      "500원을 만들기 위한 생산 단가는 : 0\n",
      "필요한 10원의 동전 개수는 : 0\n",
      "이 때 드는 비용은 0.0\n",
      "10원을 만들기 위한 생산 단가는 : 0\n",
      "2308\n"
     ]
    },
    {
     "data": {
      "text/plain": [
       "2308"
      ]
     },
     "execution_count": 84,
     "metadata": {},
     "output_type": "execute_result"
    }
   ],
   "source": [
    "solution(4578,[1,4,99,35,50,1000])\n"
   ]
  },
  {
   "cell_type": "code",
   "execution_count": 85,
   "metadata": {},
   "outputs": [
    {
     "name": "stdout",
     "output_type": "stream",
     "text": [
      "{1: 2.0, 5: 2.2, 10: 2.0, 50: 2.0, 100: 2.0, 500: 1.2}\n",
      "필요한 500원의 동전 개수는 : 3\n",
      "이 때 드는 비용은 4.0\n",
      "500원을 만들기 위한 생산 단가는 : 1800\n",
      "필요한 1원의 동전 개수는 : 499\n",
      "이 때 드는 비용은 998.0\n",
      "1원을 만들기 위한 생산 단가는 : 998\n",
      "필요한 10원의 동전 개수는 : 0\n",
      "이 때 드는 비용은 0.0\n",
      "10원을 만들기 위한 생산 단가는 : 0\n",
      "필요한 50원의 동전 개수는 : 0\n",
      "이 때 드는 비용은 0.0\n",
      "50원을 만들기 위한 생산 단가는 : 0\n",
      "필요한 100원의 동전 개수는 : 0\n",
      "이 때 드는 비용은 0.0\n",
      "100원을 만들기 위한 생산 단가는 : 0\n",
      "필요한 5원의 동전 개수는 : 0\n",
      "이 때 드는 비용은 0.0\n",
      "5원을 만들기 위한 생산 단가는 : 0\n",
      "2798\n"
     ]
    },
    {
     "data": {
      "text/plain": [
       "2798"
      ]
     },
     "execution_count": 85,
     "metadata": {},
     "output_type": "execute_result"
    }
   ],
   "source": [
    "solution(1999,[2,11,20,100,200,600])"
   ]
  },
  {
   "cell_type": "code",
   "execution_count": 119,
   "metadata": {},
   "outputs": [],
   "source": [
    "from collections import deque \n",
    "from itertools import chain\n",
    "from itertools import permutations \n",
    "\n",
    "\n",
    "def bfs_paths(graph, start, goal):\n",
    "    queue = [(start, [start])]\n",
    "    result = []\n",
    "\n",
    "    while queue:\n",
    "        n, path = queue.pop(0)\n",
    "        if n == goal:\n",
    "            result.append(path)\n",
    "        else:\n",
    "            for m in graph[n] - set(path):\n",
    "                queue.append((m, path + [m]))\n",
    "    return len(result[0])-1\n",
    "\n",
    "def cal_adj_dict(edges):\n",
    "    adj_dict = {}\n",
    "    for i in edges:\n",
    "        if i[0] in adj_dict.keys():\n",
    "            adj_dict[i[0]].add(i[1])\n",
    "        else: \n",
    "            adj_dict[i[0]] = set([i[1]])\n",
    "\n",
    "        if i[1] in adj_dict.keys():\n",
    "            adj_dict[i[1]].add(i[0])\n",
    "        else: \n",
    "            adj_dict[i[1]] = set([i[0]])\n",
    "\n",
    "    return adj_dict\n",
    "\n",
    "def solution(n,edges):\n",
    "    # unique_node \n",
    "    candidate_node = [str(i) for i in list(set(list(chain(*edges))))]\n",
    "    # adjacency_list \n",
    "    adj_lst = cal_adj_dict(edges)\n",
    "    \n",
    "    candidate = list(map(\" \".join,permutations(candidate_node,3)) )\n",
    "    answer = 0 \n",
    "    for cand_i in candidate:\n",
    "        i,j,k = (int(a) for a in cand_i.split(\" \"))\n",
    "        if bfs_paths(adj_lst,i,j) +bfs_paths(adj_lst,j,k) == bfs_paths(adj_lst,i,k):\n",
    "            answer += 1\n",
    "\n",
    "    return answer  \n",
    "        \n",
    "\n",
    "\n"
   ]
  },
  {
   "cell_type": "code",
   "execution_count": 120,
   "metadata": {},
   "outputs": [
    {
     "data": {
      "text/plain": [
       "16"
      ]
     },
     "execution_count": 120,
     "metadata": {},
     "output_type": "execute_result"
    }
   ],
   "source": [
    "solution(5,[[0,1],[0,2],[1,3],[1,4]])"
   ]
  },
  {
   "cell_type": "code",
   "execution_count": 122,
   "metadata": {},
   "outputs": [
    {
     "data": {
      "text/plain": [
       "8"
      ]
     },
     "execution_count": 122,
     "metadata": {},
     "output_type": "execute_result"
    }
   ],
   "source": [
    "solution(4,[[2,3],[0,1],[1,2]])"
   ]
  },
  {
   "cell_type": "code",
   "execution_count": 121,
   "metadata": {},
   "outputs": [],
   "source": [
    "from collections import deque\n",
    "def bfs(start, end):\n",
    "    visited = [-1] * (n + 1)\n",
    "    visited[start]=0\n",
    "    q=deque()\n",
    "    q.append(start)\n",
    "    while q:\n",
    "        cur=q.popleft()\n",
    "        if cur==end:\n",
    "            break\n",
    "        for next, dist in tree[cur]:\n",
    "            if visited[next]>-1:\n",
    "                continue\n",
    "            visited[next]=visited[cur]+dist\n",
    "            q.append(next)\n",
    "    return visited[end]"
   ]
  },
  {
   "cell_type": "code",
   "execution_count": 92,
   "metadata": {},
   "outputs": [],
   "source": [
    "import heapq\n",
    "import sys\n",
    "\n",
    "def dijkstra(start):\n",
    "    # 초기 배열 설정\n",
    "    distances = {node: sys.maxsize for node in graph}\n",
    "    # 시작 노드의 거리는 0으로 설정\n",
    "    distances[start] = 0\n",
    "    queue = []\n",
    "    # 시작 노드부터 탐색 시작 하기 위함. (거리, 노드) - 거리, 노드 순으로 넣은 이유는 heapq 모듈에 첫 번째 데이터를 기준으로 정렬을 진행하기 때문 (노드, 거리) 순으로 넣으면 최소 힙이 예상한대로 정렬되지 않음\n",
    "    heapq.heappush(queue, (distances[start], start))\n",
    "\n",
    "    # 우선 순위 큐에 데이터가 하나도 없을 때까지 반복\n",
    "    while queue:\n",
    "        # 가장 낮은 거리를 가진 노드와 거리를 추출\n",
    "        current_distance, node = heapq.heappop(queue)\n",
    "        # 파이썬 heapq에 (거리, 노드) 순으로 넣다 보니까 동일한 노드라도 큐에 저장이 된다 예시: queue[(7, 'B'), (10, 'B')]\n",
    "        # 이러한 문제를 아래 조건문으로 이미 계산되어 저장한 거리와 추출된 거리와 비교하여 저장된 거리가 더 작다면 비교하지 않고 큐의 다음 데이터로 넘어간다.\n",
    "        if distances[node] < current_distance:\n",
    "            continue\n",
    "\n",
    "        # 대상인 노드에서 인접한 노드와 거리를 순회\n",
    "        for adjacency_node, distance in graph[node].items():\n",
    "            # 현재 노드에서 인접한 노드를 지나갈 때까지의 거리를 더함\n",
    "            weighted_distance = current_distance + distance\n",
    "            # 배열의 저장된 거리보다 위의 가중치가 더 작으면 해당 노드의 거리 변경\n",
    "            if weighted_distance < distances[adjacency_node]:\n",
    "                # 배열에 저장된 거리보다 가중치가 더 작으므로 변경\n",
    "                distances[adjacency_node] = weighted_distance\n",
    "                # 다음 인접 거리를 계산 하기 위해 우선 순위 큐에 삽입 (노드가 동일해도 일단 다 저장함)\n",
    "                heapq.heappush(queue, (weighted_distance, adjacency_node))\n",
    "\n",
    "    return distances\n",
    "\n",
    "graph = {\n",
    "    'A': {'B': 10, 'C': 3},\n",
    "    'B': {'C': 1, 'D': 2},\n",
    "    'C': {'B': 4, 'D': 8, 'E': 2},\n",
    "    'D': {'E': 7},\n",
    "    'E': {'D': 9},\n",
    "}\n",
    "\n",
    "result = dijkstra('C')"
   ]
  },
  {
   "cell_type": "code",
   "execution_count": 93,
   "metadata": {},
   "outputs": [
    {
     "data": {
      "text/plain": [
       "{'A': 9223372036854775807, 'B': 4, 'C': 0, 'D': 6, 'E': 2}"
      ]
     },
     "execution_count": 93,
     "metadata": {},
     "output_type": "execute_result"
    }
   ],
   "source": [
    "result"
   ]
  },
  {
   "cell_type": "code",
   "execution_count": 180,
   "metadata": {},
   "outputs": [],
   "source": [
    "import math \n",
    "def solution(width,height,diagonals):\n",
    "    answer = 0\n",
    "    # 가장 짧은 길이 \n",
    "    # 대각선을 가는 순간 2배가 됨  \n",
    "    for i in diagonals:\n",
    "        # 0,0 부터 대각선의 한 점까지 가는 경우의 수\n",
    "        # i[0]-1, i[1] 대각선 점까지 가는 경우의 수  \n",
    "        tmp1 = math.factorial(i[0]-1+i[1])/(math.factorial(i[0]-1)*math.factorial(i[1]))\n",
    "        # i[0], i[1]-1대각선 점까지 가는 경우의 수 \n",
    "        tmp2 = math.factorial(i[0]+i[1]-1)/(math.factorial(i[0])*math.factorial(i[1]-1))\n",
    "        # i[0], i[1]-1 대각선부터 오른쪽 끝까지 가는 경우의 수 \n",
    "        tmp1 *= math.factorial(width -i[0]+height-i[1]+1)/(math.factorial(width-i[0])*math.factorial(height-i[1]+1))\n",
    "        tmp2 *= math.factorial(width -i[0]+1+height-i[1])/(math.factorial(width-i[0]+1)*math.factorial(height-i[1]))\n",
    "        answer += tmp1+tmp2\n",
    "    print(\"{:20f}\".format(answer))\n",
    "    answer = answer%10000019\n",
    "    \n",
    "    return int(answer) \n",
    "\n"
   ]
  },
  {
   "cell_type": "code",
   "execution_count": 181,
   "metadata": {},
   "outputs": [
    {
     "name": "stdout",
     "output_type": "stream",
     "text": [
      "            4.000000\n"
     ]
    },
    {
     "data": {
      "text/plain": [
       "4"
      ]
     },
     "execution_count": 181,
     "metadata": {},
     "output_type": "execute_result"
    }
   ],
   "source": [
    "solution(1,3,[[1,1]])"
   ]
  },
  {
   "cell_type": "code",
   "execution_count": 182,
   "metadata": {},
   "outputs": [
    {
     "name": "stdout",
     "output_type": "stream",
     "text": [
      "776469491667984990601216.000000\n"
     ]
    },
    {
     "data": {
      "text/plain": [
       "968863"
      ]
     },
     "execution_count": 182,
     "metadata": {},
     "output_type": "execute_result"
    }
   ],
   "source": [
    "solution(51,37,[[17,19]])"
   ]
  },
  {
   "cell_type": "code",
   "execution_count": 127,
   "metadata": {},
   "outputs": [
    {
     "data": {
      "text/plain": [
       "1"
      ]
     },
     "execution_count": 127,
     "metadata": {},
     "output_type": "execute_result"
    }
   ],
   "source": [
    "math.factorial(0)"
   ]
  },
  {
   "cell_type": "code",
   "execution_count": 155,
   "metadata": {},
   "outputs": [],
   "source": [
    "a = math.factorial(35)/ (math.factorial(16)*math.factorial(19))"
   ]
  },
  {
   "cell_type": "code",
   "execution_count": 156,
   "metadata": {},
   "outputs": [],
   "source": [
    "b = math.factorial(34+17) / (math.factorial(34)*math.factorial(17))"
   ]
  },
  {
   "cell_type": "code",
   "execution_count": 158,
   "metadata": {},
   "outputs": [
    {
     "data": {
      "text/plain": [
       "7831244.0"
      ]
     },
     "execution_count": 158,
     "metadata": {},
     "output_type": "execute_result"
    }
   ],
   "source": [
    "(a*b*2)%10000019"
   ]
  },
  {
   "cell_type": "code",
   "execution_count": null,
   "metadata": {},
   "outputs": [],
   "source": []
  }
 ],
 "metadata": {
  "interpreter": {
   "hash": "c6e4e9f98eb68ad3b7c296f83d20e6de614cb42e90992a65aa266555a3137d0d"
  },
  "kernelspec": {
   "display_name": "Python 3.9.7 ('base')",
   "language": "python",
   "name": "python3"
  },
  "language_info": {
   "codemirror_mode": {
    "name": "ipython",
    "version": 3
   },
   "file_extension": ".py",
   "mimetype": "text/x-python",
   "name": "python",
   "nbconvert_exporter": "python",
   "pygments_lexer": "ipython3",
   "version": "3.9.7"
  },
  "orig_nbformat": 4
 },
 "nbformat": 4,
 "nbformat_minor": 2
}
